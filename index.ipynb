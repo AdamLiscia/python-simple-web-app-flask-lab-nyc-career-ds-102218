{
 "cells": [
  {
   "cell_type": "markdown",
   "metadata": {},
   "source": [
    "# Python - Getting Started with Flask"
   ]
  },
  {
   "cell_type": "markdown",
   "metadata": {},
   "source": [
    "## Introduction\n",
    "In this lab we are going to practice making a very simple web application. To do this, we will be using a framework called Flask, which allows us to create an application that communicates with our browser. We will define a route, and have it return a string \"Hello world\". Finally, we will start a local server and visit the route in our browser, which will make a request to our program, which should then return our \"Hello world\" string. Don't worry if that sounds a bit confusing. It will become a lot clearer shortly. Let's get started!"
   ]
  },
  {
   "cell_type": "markdown",
   "metadata": {},
   "source": [
    "## Objectives\n",
    "* Install the microframework flask\n",
    "* Create a new flask app\n",
    "* Spin up a server to run our flask app\n",
    "* Define routes that return text"
   ]
  },
  {
   "cell_type": "markdown",
   "metadata": {},
   "source": [
    "## Getting Started\n",
    "Okay, first thing we need to get started is make sure we have Flask installed on our local computer. So, let's install flask. \n",
    "\n",
    "We can install flask by simpling uncommenting out the line below and running the cell:"
   ]
  },
  {
   "cell_type": "code",
   "execution_count": null,
   "metadata": {},
   "outputs": [],
   "source": [
    "# pip install flask`"
   ]
  },
  {
   "cell_type": "markdown",
   "metadata": {},
   "source": [
    "Once flask is installed we can move on to getting our app up and running."
   ]
  },
  {
   "cell_type": "markdown",
   "metadata": {},
   "source": [
    "## Creating a New Flask App\n",
    "Next we are going to be using our file called `hello_world.py`. We will need to import flask like so:\n",
    "```python\n",
    "from flask import Flask\n",
    "```\n",
    "Then we need to define a variable, let's call it `app`. Assing `app` to a new instance of Flask with `__name__` as its argument (i.e. `Flask(__name__)`.\n",
    "\n",
    "Great! now we have the beginnings of our flask app set up. Our variable `app` represents a Flask object which we can use to continue building our app."
   ]
  },
  {
   "cell_type": "markdown",
   "metadata": {},
   "source": [
    "## Running Our App"
   ]
  },
  {
   "cell_type": "markdown",
   "metadata": {},
   "source": [
    "Alright, our app doesn't do much of anything yet but we did just say that we created a new Flask object and this is a Flask app after all. Let's run it!\n",
    "\n",
    "To start a flask app we need to tell it to run. So, below where we have our `app` variable defined, let's tell our app to run. And since we want to know of any errors we encounter, let's tell our `app` to show any errors we encounter with `debug=True`.\n",
    "\n",
    "```python\n",
    "app.run(debug=True)\n",
    "```\n",
    "\n",
    "Awesome, now we just need to run our `hellow_world.py` file with `python hello_world.py` and our app will start a server that is running on our computer. To see our app running, visit `http://127.0.0.1:5000/` in your browser. Alternatively we can type `localhost:5000` into our url to see our app running. \n",
    "\n",
    "Once you get your server up you should see this displayed:"
   ]
  },
  {
   "cell_type": "markdown",
   "metadata": {},
   "source": [
    "![](not_found_flask.png)"
   ]
  },
  {
   "cell_type": "markdown",
   "metadata": {},
   "source": [
    "**Oh no!**\n",
    "![404_gif](not_found_404_.gif)"
   ]
  },
  {
   "cell_type": "markdown",
   "metadata": {},
   "source": [
    "Alright, unfortunately we haven't yet told our app what to do when someone visits it. Our 404 message even tells us that our server couldn't find the URL we requeste (i.e. `'/'`). So, we need to tell our app how to handle a request from a server or client. How do we do that? With routes, of course! Let's get some routes defined.\n",
    "\n"
   ]
  },
  {
   "cell_type": "markdown",
   "metadata": {},
   "source": [
    "## Defining Some Routes"
   ]
  },
  {
   "cell_type": "markdown",
   "metadata": {},
   "source": [
    "Alright, we have the beginning of our app set up and a server running, but we want to tell our app what to do when a request is made. The first route we will need is the index (`'/'`), so, let's define a route and a function to return some text when a client requests the index route.\n",
    "\n",
    "> **remember:** *we need to use a deocorator to attach or wrap the function below our route definition together with our route.*\n",
    "\n",
    "```python\n",
    "@app.route('/')\n",
    "def index\n",
    "    return \"Hello, world!\"\n",
    "    \n",
    "```"
   ]
  },
  {
   "cell_type": "markdown",
   "metadata": {},
   "source": [
    "Woo! now when someone visits the root route or index of our app, they see the text `\"Hello, world!\"`. \n",
    "\n",
    "Let's take this a step further and define a few more routes. \n",
    "\n",
    "* Define a route for `'/home'` which shows the text `\"Welcome to an amazing Flask App!\"`\n",
    "* Define a route for `'/myprofile'` which shows the text `\"This is my profile! It's not finished yet... :/\"`\n",
    "* Define a route for `'/exit'` which shows the text `\"Thanks for looking around. Come back again soon!\"`"
   ]
  },
  {
   "cell_type": "markdown",
   "metadata": {},
   "source": [
    "## Summary"
   ]
  },
  {
   "cell_type": "markdown",
   "metadata": {},
   "source": [
    "Great work! In this lab we installed the microframework flask and used it to create a simple web app! We created a new flask app and started our server. Then after seeing that our server didn't know how to handle a request to the index route, we defined a few routes and had them return some text when a client requests the route. This isn't terribly complex, but our apps will be able to do much more once we learn more about flask and the web."
   ]
  }
 ],
 "metadata": {
  "kernelspec": {
   "display_name": "Python 3",
   "language": "python",
   "name": "python3"
  },
  "language_info": {
   "codemirror_mode": {
    "name": "ipython",
    "version": 3
   },
   "file_extension": ".py",
   "mimetype": "text/x-python",
   "name": "python",
   "nbconvert_exporter": "python",
   "pygments_lexer": "ipython3",
   "version": "3.6.5"
  }
 },
 "nbformat": 4,
 "nbformat_minor": 2
}
